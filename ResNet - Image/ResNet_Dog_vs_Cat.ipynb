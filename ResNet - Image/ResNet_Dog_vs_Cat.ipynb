{
  "cells": [
    {
      "cell_type": "code",
      "execution_count": null,
      "metadata": {
        "id": "fQmBXLYkcSVm"
      },
      "outputs": [],
      "source": [
        "import numpy as np\n",
        "import cv2\n",
        "import matplotlib.pyplot as plt\n",
        "import os"
      ]
    },
    {
      "cell_type": "code",
      "execution_count": null,
      "metadata": {
        "id": "sCfTPExwj-gG"
      },
      "outputs": [],
      "source": [
        "path_test = '/content/drive/MyDrive/ResNet Data/ResNet Data'\n",
        "category = ['Cats', 'Dogs']"
      ]
    },
    {
      "cell_type": "code",
      "execution_count": null,
      "metadata": {
        "id": "G4SC9m6FkWhv"
      },
      "outputs": [],
      "source": [
        "training = []\n",
        "def createTrainingData():\n",
        "    for cate in category:\n",
        "        path = os.path.join(path_test, cate)\n",
        "        class_num = category.index(cate)\n",
        "        for img in os.listdir(path):\n",
        "            img_array = cv2.imread(os.path.join(path, img))\n",
        "            # gray_img = cv2.cvtColor(img_array, cv2.COLOR_BGR2GRAY)\n",
        "            new_array = cv2.resize(img_array, (64, 64))\n",
        "            training.append([new_array, class_num])\n",
        "createTrainingData()"
      ]
    },
    {
      "cell_type": "code",
      "execution_count": null,
      "metadata": {
        "id": "sk1ZSxE40J8l"
      },
      "outputs": [],
      "source": [
        "x = []\n",
        "y = []\n",
        "for img, cl in training:\n",
        "  x.append(img)\n",
        "  y.append(cl)"
      ]
    },
    {
      "cell_type": "code",
      "execution_count": null,
      "metadata": {
        "id": "rI0gNAoEg2AQ"
      },
      "outputs": [],
      "source": [
        "# from tensorflow.keras.preprocessing.image import ImageDataGenerator"
      ]
    },
    {
      "cell_type": "code",
      "execution_count": null,
      "metadata": {
        "colab": {
          "base_uri": "https://localhost:8080/"
        },
        "id": "uxfI9LFZ3mHn",
        "outputId": "37c8cbe3-c42b-4bc4-9b6c-5249d385dec4"
      },
      "outputs": [
        {
          "data": {
            "text/plain": [
              "(list, list)"
            ]
          },
          "execution_count": 6,
          "metadata": {},
          "output_type": "execute_result"
        }
      ],
      "source": [
        "type(x), type(y)"
      ]
    },
    {
      "cell_type": "code",
      "execution_count": null,
      "metadata": {
        "id": "hEG5U68N3orc"
      },
      "outputs": [],
      "source": [
        "x = np.array(x)\n",
        "y = np.array(y)"
      ]
    },
    {
      "cell_type": "code",
      "execution_count": null,
      "metadata": {
        "colab": {
          "base_uri": "https://localhost:8080/"
        },
        "id": "MH6Yb6fb3vmL",
        "outputId": "2cfc2788-48c6-4640-d368-481c9a811714"
      },
      "outputs": [
        {
          "data": {
            "text/plain": [
              "(numpy.ndarray, numpy.ndarray)"
            ]
          },
          "execution_count": 8,
          "metadata": {},
          "output_type": "execute_result"
        }
      ],
      "source": [
        "type(x), type(y)"
      ]
    },
    {
      "cell_type": "code",
      "execution_count": null,
      "metadata": {
        "colab": {
          "base_uri": "https://localhost:8080/"
        },
        "id": "67Ogc0Cq3wjw",
        "outputId": "55b79004-6340-4667-eb1b-f54e45b9eddc"
      },
      "outputs": [
        {
          "data": {
            "text/plain": [
              "((960, 64, 64, 3), (960,))"
            ]
          },
          "execution_count": 9,
          "metadata": {},
          "output_type": "execute_result"
        }
      ],
      "source": [
        "x.shape, y.shape"
      ]
    },
    {
      "cell_type": "code",
      "execution_count": null,
      "metadata": {
        "id": "wvzFX5N-31Dg"
      },
      "outputs": [],
      "source": [
        "#y"
      ]
    },
    {
      "cell_type": "code",
      "execution_count": null,
      "metadata": {
        "colab": {
          "base_uri": "https://localhost:8080/"
        },
        "id": "8udFLa64CGrs",
        "outputId": "c7508452-95b4-4642-f2f6-d927b81956af"
      },
      "outputs": [
        {
          "name": "stdout",
          "output_type": "stream",
          "text": [
            "(960, 2)\n"
          ]
        }
      ],
      "source": [
        "from keras.utils import np_utils\n",
        "Y = np_utils.to_categorical(y, 2)\n",
        "print(Y.shape)"
      ]
    },
    {
      "cell_type": "code",
      "execution_count": null,
      "metadata": {
        "id": "mcV-w5JQ34eb"
      },
      "outputs": [],
      "source": [
        "from sklearn.model_selection import train_test_split\n",
        "X_train, X_test, y_train, y_test = train_test_split(x, Y, test_size=0.3, random_state=None)"
      ]
    },
    {
      "cell_type": "code",
      "execution_count": null,
      "metadata": {
        "colab": {
          "base_uri": "https://localhost:8080/"
        },
        "id": "J0egNIXs4Guj",
        "outputId": "236c18a4-d67f-4566-9e9d-c4e13804a6c7"
      },
      "outputs": [
        {
          "data": {
            "text/plain": [
              "array([[0., 1.],\n",
              "       [0., 1.],\n",
              "       [0., 1.],\n",
              "       ...,\n",
              "       [1., 0.],\n",
              "       [1., 0.],\n",
              "       [0., 1.]], dtype=float32)"
            ]
          },
          "execution_count": 13,
          "metadata": {},
          "output_type": "execute_result"
        }
      ],
      "source": [
        "y_train"
      ]
    },
    {
      "cell_type": "code",
      "execution_count": null,
      "metadata": {
        "id": "1uKlOmMT4KST"
      },
      "outputs": [],
      "source": [
        "from tensorflow.keras.applications.resnet50 import ResNet50\n",
        "from tensorflow.keras.layers import Dense, BatchNormalization, Conv2D, Flatten, MaxPool2D, Dropout, RandomFlip, RandomRotation\n",
        "from tensorflow.keras.models import Sequential\n",
        "from tensorflow import keras"
      ]
    },
    {
      "cell_type": "code",
      "execution_count": null,
      "metadata": {
        "colab": {
          "base_uri": "https://localhost:8080/"
        },
        "id": "uGMlwfsh4lqR",
        "outputId": "fb44c48d-b1a4-4342-9fc8-482306f1d5bc"
      },
      "outputs": [
        {
          "name": "stdout",
          "output_type": "stream",
          "text": [
            "Downloading data from https://storage.googleapis.com/tensorflow/keras-applications/resnet/resnet50_weights_tf_dim_ordering_tf_kernels_notop.h5\n",
            "94773248/94765736 [==============================] - 0s 0us/step\n",
            "94781440/94765736 [==============================] - 0s 0us/step\n",
            "Model: \"sequential\"\n",
            "_________________________________________________________________\n",
            " Layer (type)                Output Shape              Param #   \n",
            "=================================================================\n",
            " resnet50 (Functional)       (None, 2, 2, 2048)        23587712  \n",
            "                                                                 \n",
            " random_flip (RandomFlip)    (None, 2, 2, 2048)        0         \n",
            "                                                                 \n",
            " random_rotation (RandomRota  (None, 2, 2, 2048)       0         \n",
            " tion)                                                           \n",
            "                                                                 \n",
            " flatten (Flatten)           (None, 8192)              0         \n",
            "                                                                 \n",
            " dense (Dense)               (None, 16)                131088    \n",
            "                                                                 \n",
            " dropout (Dropout)           (None, 16)                0         \n",
            "                                                                 \n",
            " dense_1 (Dense)             (None, 8)                 136       \n",
            "                                                                 \n",
            " dropout_1 (Dropout)         (None, 8)                 0         \n",
            "                                                                 \n",
            " dense_2 (Dense)             (None, 2)                 18        \n",
            "                                                                 \n",
            "=================================================================\n",
            "Total params: 23,718,954\n",
            "Trainable params: 23,665,834\n",
            "Non-trainable params: 53,120\n",
            "_________________________________________________________________\n"
          ]
        }
      ],
      "source": [
        "resnet = ResNet50(weights='imagenet', include_top=False, input_shape=(64, 64, 3))\n",
        "model = Sequential()\n",
        "model.add(resnet)\n",
        "\n",
        "# model.add(Conv2D(64, (3,3), activation = 'relu'))\n",
        "# model.add(MaxPool2D((2,2), (1,1), 'same'))\n",
        "# model.add(BatchNormalization())\n",
        "# model.add(Dropout(0.5))\n",
        "\n",
        "# model.add(Conv2D(32 , (3,3), activation = 'relu'))\n",
        "# model.add(MaxPool2D((2,2), (1,1), 'same'))\n",
        "# model.add(BatchNormalization())\n",
        "# model.add(Dropout(0.3))\n",
        "model.add(RandomFlip(\"horizontal_and_vertical\"))\n",
        "model.add(RandomRotation(0.2))\n",
        "\n",
        "model.add(Flatten())\n",
        "model.add(Dense(16, activation= 'relu'))\n",
        "model.add(Dropout(0.4))\n",
        "\n",
        "model.add(Dense(8, activation= 'relu'))\n",
        "model.add(Dropout(0.3))\n",
        "\n",
        "model.add(Dense(2, activation = 'sigmoid'))\n",
        "\n",
        "model.summary()"
      ]
    },
    {
      "cell_type": "code",
      "execution_count": null,
      "metadata": {
        "id": "2x7QZQ146Ntg"
      },
      "outputs": [],
      "source": [
        "# cnt = 0\n",
        "# for layer in resnet.layers:\n",
        "#   cnt = cnt+1\n",
        "#   layer.trainable = False\n",
        "#   if (cnt>=120):\n",
        "#     break"
      ]
    },
    {
      "cell_type": "code",
      "execution_count": null,
      "metadata": {
        "id": "mMrwEjyC6rEl"
      },
      "outputs": [],
      "source": [
        "# model.summary()\n"
      ]
    },
    {
      "cell_type": "code",
      "execution_count": 1,
      "metadata": {
        "id": "mXtmP8a87gHf",
        "colab": {
          "base_uri": "https://localhost:8080/",
          "height": 217
        },
        "outputId": "3a026783-aa24-4a6f-f3d0-abb2e3ea81c0"
      },
      "outputs": [
        {
          "output_type": "error",
          "ename": "NameError",
          "evalue": "ignored",
          "traceback": [
            "\u001b[0;31m---------------------------------------------------------------------------\u001b[0m",
            "\u001b[0;31mNameError\u001b[0m                                 Traceback (most recent call last)",
            "\u001b[0;32m<ipython-input-1-32d9d22dbbf6>\u001b[0m in \u001b[0;36m<module>\u001b[0;34m\u001b[0m\n\u001b[0;32m----> 1\u001b[0;31m \u001b[0mX_train\u001b[0m \u001b[0;34m=\u001b[0m \u001b[0mX_train\u001b[0m\u001b[0;34m.\u001b[0m\u001b[0mreshape\u001b[0m\u001b[0;34m(\u001b[0m\u001b[0mlen\u001b[0m\u001b[0;34m(\u001b[0m\u001b[0mX_train\u001b[0m\u001b[0;34m)\u001b[0m\u001b[0;34m,\u001b[0m\u001b[0;36m64\u001b[0m\u001b[0;34m,\u001b[0m\u001b[0;36m64\u001b[0m\u001b[0;34m,\u001b[0m\u001b[0;36m3\u001b[0m\u001b[0;34m)\u001b[0m\u001b[0;34m/\u001b[0m\u001b[0;36m255\u001b[0m\u001b[0;34m\u001b[0m\u001b[0;34m\u001b[0m\u001b[0m\n\u001b[0m\u001b[1;32m      2\u001b[0m \u001b[0mX_test\u001b[0m \u001b[0;34m=\u001b[0m \u001b[0mX_test\u001b[0m\u001b[0;34m.\u001b[0m\u001b[0mreshape\u001b[0m\u001b[0;34m(\u001b[0m\u001b[0mlen\u001b[0m\u001b[0;34m(\u001b[0m\u001b[0mX_test\u001b[0m\u001b[0;34m)\u001b[0m\u001b[0;34m,\u001b[0m\u001b[0;36m64\u001b[0m\u001b[0;34m,\u001b[0m\u001b[0;36m64\u001b[0m\u001b[0;34m,\u001b[0m\u001b[0;36m3\u001b[0m\u001b[0;34m)\u001b[0m\u001b[0;34m/\u001b[0m\u001b[0;36m255\u001b[0m\u001b[0;34m\u001b[0m\u001b[0;34m\u001b[0m\u001b[0m\n\u001b[1;32m      3\u001b[0m \u001b[0my_train\u001b[0m \u001b[0;34m=\u001b[0m \u001b[0my_train\u001b[0m\u001b[0;34m.\u001b[0m\u001b[0mreshape\u001b[0m\u001b[0;34m(\u001b[0m\u001b[0mlen\u001b[0m\u001b[0;34m(\u001b[0m\u001b[0my_train\u001b[0m\u001b[0;34m)\u001b[0m\u001b[0;34m,\u001b[0m\u001b[0;36m2\u001b[0m\u001b[0;34m)\u001b[0m\u001b[0;34m\u001b[0m\u001b[0;34m\u001b[0m\u001b[0m\n\u001b[1;32m      4\u001b[0m \u001b[0my_test\u001b[0m \u001b[0;34m=\u001b[0m \u001b[0my_test\u001b[0m\u001b[0;34m.\u001b[0m\u001b[0mreshape\u001b[0m\u001b[0;34m(\u001b[0m\u001b[0mlen\u001b[0m\u001b[0;34m(\u001b[0m\u001b[0my_test\u001b[0m\u001b[0;34m)\u001b[0m\u001b[0;34m,\u001b[0m\u001b[0;36m2\u001b[0m\u001b[0;34m)\u001b[0m\u001b[0;34m\u001b[0m\u001b[0;34m\u001b[0m\u001b[0m\n",
            "\u001b[0;31mNameError\u001b[0m: name 'X_train' is not defined"
          ]
        }
      ],
      "source": [
        "X_train = X_train.reshape(len(X_train),64,64,3)/255\n",
        "X_test = X_test.reshape(len(X_test),64,64,3)/255\n",
        "y_train = y_train.reshape(len(y_train),2)\n",
        "y_test = y_test.reshape(len(y_test),2)"
      ]
    },
    {
      "cell_type": "code",
      "execution_count": null,
      "metadata": {
        "id": "JWfLdgMA9pAt"
      },
      "outputs": [],
      "source": [
        "X_train.shape , y_train.shape , X_test.shape , y_test.shape"
      ]
    },
    {
      "cell_type": "code",
      "execution_count": null,
      "metadata": {
        "id": "_G0-58-s77du"
      },
      "outputs": [],
      "source": [
        "opt = keras.optimizers.RMSprop(learning_rate=0.000001)\n",
        "model.compile(opt, 'binary_crossentropy', ['accuracy'])"
      ]
    },
    {
      "cell_type": "code",
      "execution_count": null,
      "metadata": {
        "id": "T8Ft6ULh8uU6"
      },
      "outputs": [],
      "source": [
        "hist = model.fit(X_train, y_train, validation_data= (X_test, y_test), epochs= 1000)"
      ]
    },
    {
      "cell_type": "code",
      "execution_count": null,
      "metadata": {
        "id": "snJGiBTF88xt"
      },
      "outputs": [],
      "source": [
        "plt.plot(hist.history['accuracy'])\n",
        "plt.plot(hist.history['val_accuracy'])\n",
        "plt.title('model accuracy')\n",
        "plt.ylabel('accuracy')\n",
        "plt.xlabel('epoch')\n",
        "plt.legend(['train', 'test'], loc='upper left')\n",
        "plt.show()\n",
        "# summarize history for loss\n",
        "plt.plot(hist.history['loss'])\n",
        "plt.plot(hist.history['val_loss'])\n",
        "plt.title('model loss')\n",
        "plt.ylabel('loss')\n",
        "plt.xlabel('epoch')\n",
        "plt.legend(['train', 'test'], loc='upper left')\n",
        "plt.show()"
      ]
    },
    {
      "cell_type": "code",
      "execution_count": null,
      "metadata": {
        "id": "d5UScCw4yqCt"
      },
      "outputs": [],
      "source": [
        "pred = model.predict(X_test)"
      ]
    },
    {
      "cell_type": "code",
      "execution_count": null,
      "metadata": {
        "id": "9-7hD8v3qu8P"
      },
      "outputs": [],
      "source": [
        "len(X_test)"
      ]
    },
    {
      "cell_type": "code",
      "execution_count": null,
      "metadata": {
        "id": "uzkHQYukrfmS"
      },
      "outputs": [],
      "source": [
        "pred_li = [np.argmax(i) for i in pred]"
      ]
    },
    {
      "cell_type": "code",
      "execution_count": null,
      "metadata": {
        "id": "fx-gl8LgrvT6"
      },
      "outputs": [],
      "source": [
        "pred_li"
      ]
    },
    {
      "cell_type": "code",
      "execution_count": null,
      "metadata": {
        "id": "MMHKCvBhrdSK"
      },
      "outputs": [],
      "source": [
        "test_li = [np.argmax(i) for i in y_test]"
      ]
    },
    {
      "cell_type": "code",
      "execution_count": null,
      "metadata": {
        "id": "CJGsYDFnr767"
      },
      "outputs": [],
      "source": [
        "test_li"
      ]
    },
    {
      "cell_type": "code",
      "execution_count": null,
      "metadata": {
        "id": "tAhoiApMq2iz"
      },
      "outputs": [],
      "source": [
        "from sklearn import metrics\n",
        "# print(confusion_matrix(test_li, pred_li))\n",
        "confusion_matrix = metrics.confusion_matrix(test_li, pred_li)\n",
        "\n",
        "\n",
        "cm_display = metrics.ConfusionMatrixDisplay(confusion_matrix = confusion_matrix, display_labels = [\"Cat\", \"dog\"])\n",
        "\n"
      ]
    },
    {
      "cell_type": "code",
      "execution_count": null,
      "metadata": {
        "id": "dj0OKRwNsm0F"
      },
      "outputs": [],
      "source": [
        "cm_display.plot()\n",
        "plt.show()"
      ]
    },
    {
      "cell_type": "code",
      "execution_count": null,
      "metadata": {
        "id": "octlccYgY9hl"
      },
      "outputs": [],
      "source": [
        "new_img = '/content/drive/MyDrive/ResNet Data/ResNet Data/dog02.jpg'\n",
        "img_array = cv2.imread(new_img)\n",
        "# img_array = cv2.cvtColor(img_array,cv2.COLOR_GRAY2RGB)\n",
        "plt.imshow(img_array)"
      ]
    },
    {
      "cell_type": "code",
      "execution_count": null,
      "metadata": {
        "id": "812vtAziabKn"
      },
      "outputs": [],
      "source": [
        "new_array = cv2.resize(img_array, (64, 64))\n",
        "print(new_array.shape)\n",
        "test = np.expand_dims(new_array, axis = 0)\n",
        "print(test.shape)\n",
        "pred = model.predict(test)\n",
        "print(f'Predictions : {pred}')"
      ]
    },
    {
      "cell_type": "code",
      "execution_count": null,
      "metadata": {
        "id": "d4iJ7rRBavQl"
      },
      "outputs": [],
      "source": [
        "print('Actual Input : ', new_img.split('/')[-1][:3].capitalize())\n",
        "if np.argmax(pred) == 1:\n",
        "  print('Model Predicted : Dog')\n",
        "else:\n",
        "  print('Model Predicted : Cat')"
      ]
    },
    {
      "cell_type": "code",
      "execution_count": null,
      "metadata": {
        "id": "KCpG6pcRcS_G"
      },
      "outputs": [],
      "source": [
        "path = '/content/drive/MyDrive/ResNet Data/ResNet Data/Cats'\n",
        "path01 = '/content/drive/MyDrive/ResNet Data/ResNet Data/Dogs'"
      ]
    },
    {
      "cell_type": "code",
      "execution_count": null,
      "metadata": {
        "id": "pdtuyVRPeWJS"
      },
      "outputs": [],
      "source": [
        "#Counting Data\n",
        "cat_li = []\n",
        "for img in os.listdir(path):\n",
        "    cat_li.append(img)\n",
        "\n",
        "dog_li = []\n",
        "for im in os.listdir(path01):\n",
        "    dog_li.append(im)"
      ]
    },
    {
      "cell_type": "code",
      "execution_count": null,
      "metadata": {
        "id": "1636OnX2t6Px"
      },
      "outputs": [],
      "source": [
        "len(cat_li), len(dog_li)"
      ]
    },
    {
      "cell_type": "code",
      "execution_count": null,
      "metadata": {
        "id": "tUHakF-SuAjN"
      },
      "outputs": [],
      "source": []
    }
  ],
  "metadata": {
    "accelerator": "GPU",
    "colab": {
      "collapsed_sections": [],
      "provenance": []
    },
    "gpuClass": "standard",
    "kernelspec": {
      "display_name": "Python 3",
      "name": "python3"
    },
    "language_info": {
      "name": "python"
    }
  },
  "nbformat": 4,
  "nbformat_minor": 0
}